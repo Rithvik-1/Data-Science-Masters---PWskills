{
 "cells": [
  {
   "cell_type": "code",
   "execution_count": null,
   "id": "27f04908-8d09-4f53-a7f5-9ded208e72e7",
   "metadata": {},
   "outputs": [],
   "source": [
    "# DAY - 2"
   ]
  },
  {
   "cell_type": "markdown",
   "id": "0921fade-8a1e-49d4-8a79-4566990ffb5c",
   "metadata": {
    "tags": []
   },
   "source": [
    "## Control Flows\n",
    "\n",
    "## Assignment Operations\n",
    "\n",
    "## Mathematical Operations"
   ]
  },
  {
   "cell_type": "code",
   "execution_count": null,
   "id": "2922b3a1-0565-4c96-a4b2-c52460dc3d08",
   "metadata": {},
   "outputs": [
    {
     "data": {
      "text/plain": [
       "'Pythob Basics, Strings, Python Objects, Booleans, \\nhow to assign variables, logic gates, Typecasting, Dynamic Typing'"
      ]
     },
     "execution_count": 3,
     "metadata": {},
     "output_type": "execute_result"
    }
   ],
   "source": [
    "## Yesterday What have we studied \n",
    "\n",
    "\"\"\"Pythob Basics, Strings, Python Objects, Booleans, \n",
    "how to assign variables, logic gates, Typecasting, Dynamic Typing\"\"\"\n",
    "\n",
    "\"\"\"Work Given - What is RAW ?\"\"\""
   ]
  },
  {
   "cell_type": "markdown",
   "id": "feb81649-e9c2-4569-abac-f1b54649ab0b",
   "metadata": {
    "tags": []
   },
   "source": [
    "# \n"
   ]
  },
  {
   "cell_type": "code",
   "execution_count": 5,
   "id": "ef2010b1-7c96-41a4-956a-ca09124cb544",
   "metadata": {},
   "outputs": [],
   "source": [
    "# Revision\n",
    "\n",
    "a = 10 # executing variable a = 10, dynamic tyoing, we dont have to declare the datatype\n",
    "\n"
   ]
  },
  {
   "cell_type": "code",
   "execution_count": 7,
   "id": "a18bda11-85e0-4ce6-b7e5-1cd84d5acca1",
   "metadata": {},
   "outputs": [],
   "source": [
    "a = 'c'"
   ]
  },
  {
   "cell_type": "code",
   "execution_count": 10,
   "id": "6e27af86-0d4f-42f9-89d0-d6b7f1f54ef7",
   "metadata": {},
   "outputs": [
    {
     "data": {
      "text/plain": [
       "str"
      ]
     },
     "execution_count": 10,
     "metadata": {},
     "output_type": "execute_result"
    }
   ],
   "source": [
    "type(a)"
   ]
  },
  {
   "cell_type": "code",
   "execution_count": 13,
   "id": "70327763-e0dd-4f23-8679-8d5e1f212ab8",
   "metadata": {},
   "outputs": [
    {
     "data": {
      "text/plain": [
       "123"
      ]
     },
     "execution_count": 13,
     "metadata": {},
     "output_type": "execute_result"
    }
   ],
   "source": [
    "int('123')"
   ]
  },
  {
   "cell_type": "code",
   "execution_count": 14,
   "id": "54bccd92-8b6a-4af3-8142-3c2e622485ec",
   "metadata": {},
   "outputs": [
    {
     "ename": "ValueError",
     "evalue": "invalid literal for int() with base 10: 'abc'",
     "output_type": "error",
     "traceback": [
      "\u001b[0;31m---------------------------------------------------------------------------\u001b[0m",
      "\u001b[0;31mValueError\u001b[0m                                Traceback (most recent call last)",
      "Cell \u001b[0;32mIn[14], line 1\u001b[0m\n\u001b[0;32m----> 1\u001b[0m \u001b[38;5;28;43mint\u001b[39;49m\u001b[43m(\u001b[49m\u001b[38;5;124;43m'\u001b[39;49m\u001b[38;5;124;43mabc\u001b[39;49m\u001b[38;5;124;43m'\u001b[39;49m\u001b[43m)\u001b[49m\n",
      "\u001b[0;31mValueError\u001b[0m: invalid literal for int() with base 10: 'abc'"
     ]
    }
   ],
   "source": [
    "int('abc')"
   ]
  },
  {
   "cell_type": "code",
   "execution_count": 16,
   "id": "96f6a735-6226-4a50-a297-1003c4c80e9f",
   "metadata": {},
   "outputs": [
    {
     "name": "stdout",
     "output_type": "stream",
     "text": [
      "HEllo World\n"
     ]
    }
   ],
   "source": [
    "print('HEllo World')"
   ]
  },
  {
   "cell_type": "code",
   "execution_count": 19,
   "id": "585cb103-cb38-4b80-b154-a776a267b08b",
   "metadata": {},
   "outputs": [
    {
     "name": "stdout",
     "output_type": "stream",
     "text": [
      "123\n"
     ]
    }
   ],
   "source": [
    "print(123)"
   ]
  },
  {
   "cell_type": "code",
   "execution_count": 21,
   "id": "ab6a3093-ecd2-4d01-aae4-2ac3319491c5",
   "metadata": {},
   "outputs": [
    {
     "name": "stdout",
     "output_type": "stream",
     "text": [
      "My age is:  22\n"
     ]
    }
   ],
   "source": [
    "# here, age is defined as a variable\n",
    "\n",
    "age = 22\n",
    "print(\"My age is: \",age)"
   ]
  },
  {
   "cell_type": "code",
   "execution_count": 24,
   "id": "9216de1c-da69-4ea4-a8dc-790e068bc61e",
   "metadata": {},
   "outputs": [
    {
     "name": "stdout",
     "output_type": "stream",
     "text": [
      "My age is: 22\n"
     ]
    }
   ],
   "source": [
    "# This is formatting - f string\n",
    "\n",
    "print(f\"My age is: {age}\")"
   ]
  },
  {
   "cell_type": "code",
   "execution_count": 28,
   "id": "47f1efe7-601f-4954-a3a8-98537404d08c",
   "metadata": {},
   "outputs": [
    {
     "name": "stdout",
     "output_type": "stream",
     "text": [
      "My name is Krish and age is 32\n"
     ]
    }
   ],
   "source": [
    "## format()\n",
    "\n",
    "# indexing - in python programing language we start indexing from 0\n",
    "\n",
    "name = \"Krish\"\n",
    "age = \"32\"\n",
    "print(\"My name is {} and age is {}\".format(name , age))"
   ]
  },
  {
   "cell_type": "code",
   "execution_count": 29,
   "id": "99402972-5dab-44d1-a027-39228ed0f1d8",
   "metadata": {},
   "outputs": [
    {
     "name": "stdout",
     "output_type": "stream",
     "text": [
      "My name is Krish and age is 32\n"
     ]
    }
   ],
   "source": [
    "## placeholder - f string format\n",
    "print(\"My name is {firstname} and age is {firstage}\".format(firstname = name , firstage = age))\n"
   ]
  },
  {
   "cell_type": "code",
   "execution_count": 33,
   "id": "6d6a0900-1f2b-4798-9a86-21d75a393b1f",
   "metadata": {},
   "outputs": [
    {
     "name": "stdout",
     "output_type": "stream",
     "text": [
      "My age is 22 and i have completed: my degree of M.Tech Dual Degree with name of Rithvik\n"
     ]
    }
   ],
   "source": [
    "name = \"Rithvik\"\n",
    "age = 22\n",
    "degree = \"M.Tech Dual Degree\"\n",
    "\n",
    "print(\"My age is {} and i have completed: my degree of {} with name of {}\".format(age, degree, name))"
   ]
  },
  {
   "cell_type": "code",
   "execution_count": 44,
   "id": "963eb275-4478-4e1e-8358-7db496b62245",
   "metadata": {},
   "outputs": [
    {
     "name": "stdout",
     "output_type": "stream",
     "text": [
      "My age is 22 and I have Completed: My Degree of M.Tech Dual Degree with the name of Rithvik\n"
     ]
    }
   ],
   "source": [
    "# f string\n",
    "\n",
    "print(f\"My age is {age} and I have Completed: My Degree of {degree} with the name of {name}\")"
   ]
  },
  {
   "cell_type": "markdown",
   "id": "3b0a5b3a-29a7-4e34-aab1-bd295c1e50d3",
   "metadata": {},
   "source": [
    "###  \n"
   ]
  },
  {
   "cell_type": "markdown",
   "id": "cca84f7a-dbd6-4502-9e2b-6b664ec8f06e",
   "metadata": {},
   "source": [
    "## Control Flow\n",
    "### Decision making Statements\n",
    "\n",
    "1. **if**\n",
    "2. **if else**\n",
    "3. **if elif else**\n",
    "4. **nested if**\n",
    "5. **single statement suits**\n",
    "\n"
   ]
  },
  {
   "cell_type": "code",
   "execution_count": 54,
   "id": "a727d877-e96c-4716-bfa2-cb9387761b6c",
   "metadata": {},
   "outputs": [
    {
     "name": "stdout",
     "output_type": "stream",
     "text": [
      "You are eligible to Vote\n"
     ]
    }
   ],
   "source": [
    "# If Statemets\n",
    "\n",
    "age = 18\n",
    "if age >= 18:\n",
    "    print(\"You are eligible to Vote\")"
   ]
  },
  {
   "cell_type": "code",
   "execution_count": 59,
   "id": "3fbaa681-39c7-46a1-a428-2a4503d3937f",
   "metadata": {
    "tags": []
   },
   "outputs": [
    {
     "name": "stdout",
     "output_type": "stream",
     "text": [
      "You are not eligible to Vote\n"
     ]
    }
   ],
   "source": [
    "age = 17\n",
    "if age < 18:\n",
    "    print(\"You are not eligible to Vote\")"
   ]
  },
  {
   "cell_type": "code",
   "execution_count": 60,
   "id": "89f5405f-d7b7-4877-85bd-675b0396b921",
   "metadata": {},
   "outputs": [
    {
     "name": "stdin",
     "output_type": "stream",
     "text": [
      " rithvik\n"
     ]
    },
    {
     "data": {
      "text/plain": [
       "'rithvik'"
      ]
     },
     "execution_count": 60,
     "metadata": {},
     "output_type": "execute_result"
    }
   ],
   "source": [
    "input()"
   ]
  },
  {
   "cell_type": "code",
   "execution_count": 61,
   "id": "6c3c8b11-411e-4d6f-a597-cf257aa9f454",
   "metadata": {},
   "outputs": [],
   "source": [
    "## TASK - 1\n",
    "# Take input of age\n",
    "# check wheather age >= 18 and age <=45\n",
    "## display a message you are young blood"
   ]
  },
  {
   "cell_type": "code",
   "execution_count": 69,
   "id": "e63a9613-cf4e-44e4-b2d9-3a50aa32da34",
   "metadata": {},
   "outputs": [
    {
     "name": "stdin",
     "output_type": "stream",
     "text": [
      "Enter Your age:  46\n"
     ]
    }
   ],
   "source": [
    "age = int(input(\"Enter Your age: \"))\n",
    "\n",
    "if age >= 18 and age <= 45:\n",
    "    print(\"You are Young Blood\")"
   ]
  },
  {
   "cell_type": "code",
   "execution_count": 75,
   "id": "d7abb3f4-4c0c-4b94-b38d-03009e649b53",
   "metadata": {},
   "outputs": [
    {
     "data": {
      "text/plain": [
       "True"
      ]
     },
     "execution_count": 75,
     "metadata": {},
     "output_type": "execute_result"
    }
   ],
   "source": [
    "22>=18 and 22<=45"
   ]
  },
  {
   "cell_type": "code",
   "execution_count": 78,
   "id": "1070d07d-4643-4928-8eb4-4841eee54226",
   "metadata": {},
   "outputs": [
    {
     "name": "stdin",
     "output_type": "stream",
     "text": [
      "Enter Your age:  18\n"
     ]
    },
    {
     "name": "stdout",
     "output_type": "stream",
     "text": [
      "You are Young Blood\n"
     ]
    }
   ],
   "source": [
    "# else statements\n",
    "\n",
    "age = int(input(\"Enter Your age: \"))\n",
    "if age >= 18 and age <= 45:\n",
    "    print(\"You are Young Blood\")\n",
    "else:\n",
    "    print(\"Thankyou we will let you know\")"
   ]
  },
  {
   "cell_type": "code",
   "execution_count": 79,
   "id": "e9ae165a-15b2-4b02-aeaa-a9434123ce44",
   "metadata": {},
   "outputs": [],
   "source": [
    "# TASK - 2\n",
    "\n",
    "# mall - input the product price\n",
    "# any product in mall > 1000 rs 20% off\n",
    "## product <= 1000 rs 30% off\n",
    "\n",
    "## print the product price after the discount"
   ]
  },
  {
   "cell_type": "code",
   "execution_count": 14,
   "id": "0134ddb2-ce9b-4e19-9ad6-bdd1169f37bf",
   "metadata": {},
   "outputs": [
    {
     "name": "stdin",
     "output_type": "stream",
     "text": [
      "Enter the Price of the Product: 1000\n"
     ]
    },
    {
     "name": "stdout",
     "output_type": "stream",
     "text": [
      "disount is 10%, the final price is: 900.0\n"
     ]
    }
   ],
   "source": [
    "price = int(input(\"Enter the Price of the Product:\"))\n",
    "if price > 1000:\n",
    "    print (\"discout is 20%, the final price is: {}\".format(price-(price*0.2)))\n",
    "else:\n",
    "    print(\"disount is 10%, the final price is: {}\".format(price-(price*0.1)))"
   ]
  },
  {
   "cell_type": "code",
   "execution_count": null,
   "id": "f6eaa39a-7485-43d1-822b-d1d599a35d43",
   "metadata": {
    "tags": []
   },
   "outputs": [],
   "source": [
    "# TASK - 3\n",
    "\n",
    "\n",
    "# >3000 - 20% off\n",
    "# >=2000 and <=3000 - 30% off\n",
    "# <=1000 and <=2000 - 40% off"
   ]
  },
  {
   "cell_type": "code",
   "execution_count": 40,
   "id": "57bbe413-9ecb-42dc-827b-40eb493aaeb0",
   "metadata": {},
   "outputs": [
    {
     "name": "stdin",
     "output_type": "stream",
     "text": [
      "Enter the PRoduct Price: 2100\n"
     ]
    },
    {
     "name": "stdout",
     "output_type": "stream",
     "text": [
      "Price is 30% off:1470.0\n"
     ]
    }
   ],
   "source": [
    "product_price = int(input(\"Enter the PRoduct Price:\"))\n",
    "\n",
    "if product_price > 3000:\n",
    "    print(f\"Price is 20% off: {product_price-(product_price*0.2)}\")\n",
    "elif product_price >= 2000 and product_price <= 3000:\n",
    "    print(f\"Price is 30% off:{product_price-(product_price*0.3)}\")\n",
    "elif product_price >= 100 and product_price <= 2000:\n",
    "    print(f\"Price is 40% off: {product_price-(product_price*0.4)}\")\n",
    "else:\n",
    "    print(\"lets Drink Tea\")"
   ]
  },
  {
   "cell_type": "code",
   "execution_count": 47,
   "id": "73f1715f-2abf-455a-b996-f2af0dd023a8",
   "metadata": {},
   "outputs": [
    {
     "name": "stdin",
     "output_type": "stream",
     "text": [
      "Enter the PRoduct Price: 2000\n"
     ]
    },
    {
     "name": "stdout",
     "output_type": "stream",
     "text": [
      "Price is 30% off:1400.0\n"
     ]
    }
   ],
   "source": [
    "# TASK - 4\n",
    "\n",
    "product_price = int(input(\"Enter the PRoduct Price:\"))\n",
    "\n",
    "if product_price > 3000:\n",
    "    if product_price == 4000:\n",
    "        print(\"Congratulations you won a trip to Goa\")\n",
    "    print(f\"Price is 20% off: {product_price-(product_price*0.2)}\")\n",
    "elif product_price >= 2000 and product_price <= 3000:\n",
    "    if product_price == 2999: #nested if\n",
    "        print(\"Congratulations, you won a special gift\")\n",
    "    print(f\"Price is 30% off:{product_price-(product_price*0.3)}\")\n",
    "elif product_price >= 100 and product_price < 2000:\n",
    "    print(f\"Price is 40% off: {product_price-(product_price*0.4)}\")\n",
    "else:\n",
    "    print(\"lets Drink Tea \\nI will also be there\")\n"
   ]
  },
  {
   "cell_type": "markdown",
   "id": "b55cf352-b708-4cbd-9962-0a4e519fc91b",
   "metadata": {},
   "source": [
    "### single statement suits"
   ]
  },
  {
   "cell_type": "code",
   "execution_count": 49,
   "id": "fff83ac2-127e-4c5b-9de5-1dcde883c71d",
   "metadata": {},
   "outputs": [
    {
     "name": "stdin",
     "output_type": "stream",
     "text": [
      "Enter the number 1000\n"
     ]
    },
    {
     "name": "stdout",
     "output_type": "stream",
     "text": [
      "Go Home\n"
     ]
    }
   ],
   "source": [
    "value = int(input(\"Enter the number\"))\n",
    "if(value<1000):print(\"Value is less than 1000\")\n",
    "else:\n",
    "    print(\"Go Home\")"
   ]
  },
  {
   "cell_type": "markdown",
   "id": "ed03ca76-6a07-4197-9d77-09d1c15dc0e3",
   "metadata": {},
   "source": [
    "## Loops Statements\n",
    "\n",
    "1. while loop\n",
    "2. for loop\n",
    "3. nested loop\n",
    "4. loop control(break, contibue, pass)"
   ]
  },
  {
   "cell_type": "code",
   "execution_count": 3,
   "id": "9294e39d-839f-4430-8272-46ad14bdadc6",
   "metadata": {},
   "outputs": [
    {
     "name": "stdout",
     "output_type": "stream",
     "text": [
      "1000\n",
      "900\n",
      "800\n",
      "700\n",
      "600\n",
      "500\n",
      "400\n",
      "300\n",
      "200\n",
      "100\n",
      "Put more money bank people\n"
     ]
    }
   ],
   "source": [
    "# while loop\n",
    "\n",
    "# Example -1 ATM Machine wih 1000 rs\n",
    "\n",
    "total_amount = 1000\n",
    "while total_amount != 0:\n",
    "    print(total_amount)\n",
    "    total_amount=total_amount - 100   \n",
    "else:\n",
    "    print(\"Put more money bank people\")"
   ]
  },
  {
   "cell_type": "markdown",
   "id": "099e7b1d-4dc9-4ef7-9bd5-c02c72d2c498",
   "metadata": {},
   "source": [
    "## For Loop\n",
    "\n"
   ]
  },
  {
   "cell_type": "code",
   "execution_count": 6,
   "id": "595579b9-d5d8-4341-b334-ce09cd98569d",
   "metadata": {},
   "outputs": [
    {
     "name": "stdout",
     "output_type": "stream",
     "text": [
      "* \n",
      "* * \n",
      "* * * \n",
      "* * * * \n",
      "* * * * * \n",
      "* * * * * * \n",
      "* * * * * * * \n",
      "* * * * * * * * \n",
      "* * * * * * * * * \n",
      "* * * * * * * * * * \n"
     ]
    }
   ],
   "source": [
    "## for loop usually works for iteration inside collection/containers/lists\n",
    "\n",
    "## nested loops\n",
    "\n",
    "n = 10\n",
    "for i in range(0,n):\n",
    "    for j in range(0,i+1):\n",
    "        print(\"*\",end=\" \")\n",
    "    print(\"\\r\")"
   ]
  },
  {
   "cell_type": "code",
   "execution_count": 8,
   "id": "7633e1ab-e9ec-4749-a2c7-05c13ab212b3",
   "metadata": {},
   "outputs": [
    {
     "name": "stdout",
     "output_type": "stream",
     "text": [
      "            * \n",
      "          * * * \n",
      "        * * * * * \n",
      "      * * * * * * * \n",
      "    * * * * * * * * * \n",
      "  * * * * * * * * * * * \n",
      "* * * * * * * * * * * * * \n"
     ]
    }
   ],
   "source": [
    "\"\"\" WORK GIVEN - Print Equilateral triangle \"\"\"\n",
    "\n",
    "n = 7\n",
    "for i in range (0,n):\n",
    "    print(\"     \",end=\"\")\n",
    "    for j in range (0, i + 1):\n",
    "        print(\"*\",end=\"\")\n",
    "    print(\"\\n\")\n",
    "    \n",
    "    \n",
    "    \n"
   ]
  },
  {
   "cell_type": "code",
   "execution_count": 29,
   "id": "73e2ddf3-a6e7-41d3-a451-6ef6a2d65942",
   "metadata": {},
   "outputs": [
    {
     "name": "stdout",
     "output_type": "stream",
     "text": [
      "# # \n",
      "# \n",
      "\n",
      "\n"
     ]
    }
   ],
   "source": [
    "## Telusko\n",
    "\n",
    "for j in range(0, 4): # number of rows\n",
    "    for i in range(): # number of columns\n",
    "        print(\"# \",end =\"\")\n",
    "\n",
    "    print()\n"
   ]
  },
  {
   "cell_type": "code",
   "execution_count": null,
   "id": "235a4250-6d93-437a-acda-212d1ee69e3f",
   "metadata": {},
   "outputs": [],
   "source": []
  },
  {
   "cell_type": "code",
   "execution_count": null,
   "id": "0352e545-616b-48ce-81a2-362524bc5d1a",
   "metadata": {},
   "outputs": [],
   "source": []
  },
  {
   "cell_type": "code",
   "execution_count": null,
   "id": "5c2627ea-c823-40c0-ac6a-a7fdd7d40373",
   "metadata": {},
   "outputs": [],
   "source": []
  },
  {
   "cell_type": "code",
   "execution_count": 15,
   "id": "544a9d3e-7024-4ad3-ba32-c8214c8b6c31",
   "metadata": {},
   "outputs": [
    {
     "name": "stdout",
     "output_type": "stream",
     "text": [
      "0 1 2 3 4 5 6 7 8 9 "
     ]
    }
   ],
   "source": [
    "x = range(0, 10)\n",
    "for n in x:\n",
    "  print(n,end=\" \")"
   ]
  },
  {
   "cell_type": "code",
   "execution_count": 6,
   "id": "7d606154-1e1d-4ff5-ab83-2db025e1c0b4",
   "metadata": {},
   "outputs": [
    {
     "name": "stdout",
     "output_type": "stream",
     "text": [
      "* * * "
     ]
    }
   ],
   "source": [
    "for i in range(0,3):\n",
    "        print(\"*\",end=\" \")"
   ]
  },
  {
   "cell_type": "code",
   "execution_count": 13,
   "id": "1eb75ef1-317a-40f3-90cb-59c52aa3bb12",
   "metadata": {},
   "outputs": [
    {
     "name": "stdout",
     "output_type": "stream",
     "text": [
      "*\n",
      "**\n",
      "***\n",
      "****\n",
      "*****\n",
      "******\n",
      "*******\n"
     ]
    }
   ],
   "source": [
    "n = 7\n",
    "for i in range(0,n):\n",
    "    for j in range(0,i+1):\n",
    "        print(\"*\",end=\"\")\n",
    "    print(\"\\r\")"
   ]
  },
  {
   "cell_type": "code",
   "execution_count": 33,
   "id": "b49c5b54-8b90-4b7e-b4b9-aa9901db53c5",
   "metadata": {},
   "outputs": [],
   "source": [
    "# loop controls\n",
    "## brak and continue\n",
    "\n",
    "fruits_list = [\"Man\", \"Cherry\", \"Apple\", \"Monkey\"]"
   ]
  },
  {
   "cell_type": "code",
   "execution_count": 35,
   "id": "c7306251-5c1d-4c19-83c7-027f25566289",
   "metadata": {},
   "outputs": [
    {
     "name": "stdout",
     "output_type": "stream",
     "text": [
      "Man\n",
      "Cherry\n",
      "The Fruit is apple\n",
      "Monkey\n"
     ]
    }
   ],
   "source": [
    "for i in fruits_list:\n",
    "    if i == \"Apple\":\n",
    "        print(\"The Fruit is apple\")\n",
    "        continue\n",
    "    print(i)"
   ]
  },
  {
   "cell_type": "code",
   "execution_count": null,
   "id": "1f4d887f-e8c1-4e53-a64e-9989b9b66367",
   "metadata": {},
   "outputs": [],
   "source": []
  }
 ],
 "metadata": {
  "kernelspec": {
   "display_name": "Python 3 (ipykernel)",
   "language": "python",
   "name": "python3"
  },
  "language_info": {
   "codemirror_mode": {
    "name": "ipython",
    "version": 3
   },
   "file_extension": ".py",
   "mimetype": "text/x-python",
   "name": "python",
   "nbconvert_exporter": "python",
   "pygments_lexer": "ipython3",
   "version": "3.10.8"
  }
 },
 "nbformat": 4,
 "nbformat_minor": 5
}
