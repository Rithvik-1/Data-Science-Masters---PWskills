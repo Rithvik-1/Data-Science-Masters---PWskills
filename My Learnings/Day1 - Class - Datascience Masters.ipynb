{
 "cells": [
  {
   "cell_type": "code",
   "execution_count": null,
   "id": "50953a05-76e7-42ed-9fc1-ac0ec9e1d2b5",
   "metadata": {},
   "outputs": [],
   "source": []
  },
  {
   "cell_type": "code",
   "execution_count": 6,
   "id": "fb1efe38-bed0-425c-90c3-5ebfd0b20446",
   "metadata": {},
   "outputs": [
    {
     "data": {
      "text/plain": [
       "2"
      ]
     },
     "execution_count": 6,
     "metadata": {},
     "output_type": "execute_result"
    }
   ],
   "source": [
    "1 + 1"
   ]
  },
  {
   "cell_type": "code",
   "execution_count": 10,
   "id": "3eb6dc06-fd1e-4376-9374-7ea3c89987d1",
   "metadata": {},
   "outputs": [],
   "source": [
    "a = 10"
   ]
  },
  {
   "cell_type": "code",
   "execution_count": 11,
   "id": "aa54f3c9-81ba-4458-8c74-ab1bf9c70944",
   "metadata": {},
   "outputs": [
    {
     "data": {
      "text/plain": [
       "10"
      ]
     },
     "execution_count": 11,
     "metadata": {},
     "output_type": "execute_result"
    }
   ],
   "source": [
    "a"
   ]
  },
  {
   "cell_type": "code",
   "execution_count": 15,
   "id": "b85f1ab1-979d-4a62-84da-5c78c6d349bd",
   "metadata": {},
   "outputs": [
    {
     "data": {
      "text/plain": [
       "20"
      ]
     },
     "execution_count": 15,
     "metadata": {},
     "output_type": "execute_result"
    }
   ],
   "source": [
    "\"\"\"\n",
    "example of multi line comments\n",
    "this is an example\n",
    "\n",
    "\"\"\"\n",
    "a = 20\n",
    "a"
   ]
  },
  {
   "cell_type": "markdown",
   "id": "3acfec89-0e6b-482e-a3e4-4be7bbf51822",
   "metadata": {},
   "source": [
    "# hello\n",
    "## hello1\n",
    "\n",
    "1. Hello Guys how are you ?\n",
    "markdown is speicifcally used for writing headings and any instructions"
   ]
  },
  {
   "cell_type": "raw",
   "id": "01d01c40-abc5-416a-88bd-30e8e30ef509",
   "metadata": {},
   "source": [
    "# hello"
   ]
  },
  {
   "cell_type": "raw",
   "id": "44b6e207-8713-4668-a634-2926a89a3e07",
   "metadata": {},
   "source": [
    "hello"
   ]
  },
  {
   "cell_type": "raw",
   "id": "55d5983c-ebf3-4afc-9fa9-994cb9a1e2c9",
   "metadata": {},
   "source": [
    "1. Hello"
   ]
  },
  {
   "cell_type": "code",
   "execution_count": 6,
   "id": "689e9681-858a-4496-9099-ae47fa52d033",
   "metadata": {},
   "outputs": [],
   "source": [
    "# how to enable debugger\n",
    "# python 2.7\n",
    "# python 3 removed lot of redendency things and made packages faster"
   ]
  },
  {
   "cell_type": "markdown",
   "id": "4f177f1c-87bb-46b4-a2db-c9b064dcd261",
   "metadata": {
    "tags": []
   },
   "source": [
    "# First Topic\n",
    "### python objects, numbers & booleans, strings"
   ]
  },
  {
   "cell_type": "markdown",
   "id": "12ae07f2-2f96-4fd6-b080-b7b3d4cadb96",
   "metadata": {},
   "source": [
    "## Numbers"
   ]
  },
  {
   "cell_type": "code",
   "execution_count": 7,
   "id": "bb9a281b-36bb-4d49-aa3d-70773f8eb410",
   "metadata": {},
   "outputs": [
    {
     "data": {
      "text/plain": [
       "4"
      ]
     },
     "execution_count": 7,
     "metadata": {},
     "output_type": "execute_result"
    }
   ],
   "source": [
    "1 + 3"
   ]
  },
  {
   "cell_type": "code",
   "execution_count": null,
   "id": "64a1ae91-85b8-461c-9144-db112c8fdef2",
   "metadata": {},
   "outputs": [],
   "source": [
    "## here, it is not displaying anything it is just an execution"
   ]
  },
  {
   "cell_type": "code",
   "execution_count": 8,
   "id": "d0fabf08-eefa-417d-91a9-66c09e791d89",
   "metadata": {},
   "outputs": [
    {
     "name": "stdout",
     "output_type": "stream",
     "text": [
      "4\n"
     ]
    }
   ],
   "source": [
    "print(1 + 3)"
   ]
  },
  {
   "cell_type": "code",
   "execution_count": 11,
   "id": "f5a79716-c272-4282-b83f-955741db339c",
   "metadata": {},
   "outputs": [
    {
     "name": "stdout",
     "output_type": "stream",
     "text": [
      "5\n"
     ]
    }
   ],
   "source": [
    "a = 5\n",
    "print(a)"
   ]
  },
  {
   "cell_type": "code",
   "execution_count": 12,
   "id": "b25e2fa8-f449-43a7-8342-06363315dda1",
   "metadata": {},
   "outputs": [
    {
     "name": "stdout",
     "output_type": "stream",
     "text": [
      "Hello World\n"
     ]
    }
   ],
   "source": [
    "print(\"Hello World\")"
   ]
  },
  {
   "cell_type": "code",
   "execution_count": 22,
   "id": "e46cca2b-773e-4456-beee-c2fb6539157b",
   "metadata": {},
   "outputs": [
    {
     "name": "stdout",
     "output_type": "stream",
     "text": [
      "Hello world, My name is Rithvik Guguloth,\n",
      "I am studying in Pwskills and IIT Kharagpur\n"
     ]
    }
   ],
   "source": [
    "print(\"Hello world, My name is Rithvik Guguloth,\\nI am studying in Pwskills and IIT Kharagpur\")"
   ]
  },
  {
   "cell_type": "markdown",
   "id": "73cee000-2ba4-40be-a3cf-39d12200898f",
   "metadata": {},
   "source": [
    "### Variable Assignments"
   ]
  },
  {
   "cell_type": "code",
   "execution_count": 23,
   "id": "d167d171-1bc2-4797-8f12-efcdc68f75f3",
   "metadata": {},
   "outputs": [],
   "source": [
    "name = \"Rithvik\"\n",
    "company = \"Pwskills\""
   ]
  },
  {
   "cell_type": "code",
   "execution_count": 24,
   "id": "178c5e63-3cba-43b3-af5d-b5ffabbcd27d",
   "metadata": {},
   "outputs": [
    {
     "data": {
      "text/plain": [
       "'Pwskills'"
      ]
     },
     "execution_count": 24,
     "metadata": {},
     "output_type": "execute_result"
    }
   ],
   "source": [
    "company"
   ]
  },
  {
   "cell_type": "code",
   "execution_count": 25,
   "id": "ecd9c8f5-336a-4359-bcca-4fa52791e0c6",
   "metadata": {},
   "outputs": [
    {
     "data": {
      "text/plain": [
       "'Rithvik'"
      ]
     },
     "execution_count": 25,
     "metadata": {},
     "output_type": "execute_result"
    }
   ],
   "source": [
    "name"
   ]
  },
  {
   "cell_type": "code",
   "execution_count": 26,
   "id": "ec08ce67-648d-4f5c-8cc5-9452340e271a",
   "metadata": {},
   "outputs": [],
   "source": [
    "number = 10"
   ]
  },
  {
   "cell_type": "code",
   "execution_count": 27,
   "id": "62c69eeb-b9fe-4a08-92ed-9cf0810f0bcf",
   "metadata": {},
   "outputs": [
    {
     "data": {
      "text/plain": [
       "10"
      ]
     },
     "execution_count": 27,
     "metadata": {},
     "output_type": "execute_result"
    }
   ],
   "source": [
    "number"
   ]
  },
  {
   "cell_type": "code",
   "execution_count": 28,
   "id": "2bad38c2-57cc-498a-bbcc-6fda9a9664b0",
   "metadata": {},
   "outputs": [],
   "source": [
    "name = \"Bala\""
   ]
  },
  {
   "cell_type": "code",
   "execution_count": 29,
   "id": "8b5baada-07ad-49f5-9178-6428a6ba8b6b",
   "metadata": {},
   "outputs": [
    {
     "data": {
      "text/plain": [
       "'Bala'"
      ]
     },
     "execution_count": 29,
     "metadata": {},
     "output_type": "execute_result"
    }
   ],
   "source": [
    "name"
   ]
  },
  {
   "cell_type": "code",
   "execution_count": 31,
   "id": "d1726b15-c949-456a-9d4c-c90b01b24571",
   "metadata": {},
   "outputs": [],
   "source": [
    "name1 = \"Krish\""
   ]
  },
  {
   "cell_type": "code",
   "execution_count": 39,
   "id": "180365ea-3ffc-4e67-97e5-d7ed22ad5ac1",
   "metadata": {},
   "outputs": [
    {
     "data": {
      "text/plain": [
       "str"
      ]
     },
     "execution_count": 39,
     "metadata": {},
     "output_type": "execute_result"
    }
   ],
   "source": [
    "# what is double quotes\n",
    "''\n",
    "# HOW DO I KNOW ALL INSIDE DOUBLE QUOTE IS TAKEN AS A STRING\n",
    "\n",
    "type('')\n",
    "type(\"bala\")"
   ]
  },
  {
   "cell_type": "code",
   "execution_count": 41,
   "id": "d532c8ec-9794-49b4-8ee0-4757c64aef8c",
   "metadata": {},
   "outputs": [
    {
     "data": {
      "text/plain": [
       "str"
      ]
     },
     "execution_count": 41,
     "metadata": {},
     "output_type": "execute_result"
    }
   ],
   "source": [
    "type(company)"
   ]
  },
  {
   "cell_type": "code",
   "execution_count": 42,
   "id": "6c8007ee-b211-49b8-bff9-b73aa0aeb11a",
   "metadata": {},
   "outputs": [
    {
     "data": {
      "text/plain": [
       "int"
      ]
     },
     "execution_count": 42,
     "metadata": {},
     "output_type": "execute_result"
    }
   ],
   "source": [
    "type(number)"
   ]
  },
  {
   "cell_type": "code",
   "execution_count": 43,
   "id": "674cafcd-e405-4430-a8fc-39842e0f6c8e",
   "metadata": {},
   "outputs": [],
   "source": [
    "decimal_num = 2.5"
   ]
  },
  {
   "cell_type": "code",
   "execution_count": 44,
   "id": "38a6d8a2-c2fb-4cd7-9696-bd8b018e560e",
   "metadata": {},
   "outputs": [
    {
     "data": {
      "text/plain": [
       "2.5"
      ]
     },
     "execution_count": 44,
     "metadata": {},
     "output_type": "execute_result"
    }
   ],
   "source": [
    "decimal_num"
   ]
  },
  {
   "cell_type": "code",
   "execution_count": 45,
   "id": "f17e1f6b-25d8-4435-8abf-ea55277c9122",
   "metadata": {},
   "outputs": [
    {
     "data": {
      "text/plain": [
       "float"
      ]
     },
     "execution_count": 45,
     "metadata": {},
     "output_type": "execute_result"
    }
   ],
   "source": [
    "type(decimal_num)"
   ]
  },
  {
   "cell_type": "code",
   "execution_count": 46,
   "id": "12d938ee-c5bd-4879-8ea9-ecad70da1d87",
   "metadata": {},
   "outputs": [
    {
     "data": {
      "text/plain": [
       "(1+2j)"
      ]
     },
     "execution_count": 46,
     "metadata": {},
     "output_type": "execute_result"
    }
   ],
   "source": [
    "1 + 2j"
   ]
  },
  {
   "cell_type": "code",
   "execution_count": 48,
   "id": "31ef3afa-922b-468f-a41b-ec98eeb10ea5",
   "metadata": {},
   "outputs": [
    {
     "data": {
      "text/plain": [
       "complex"
      ]
     },
     "execution_count": 48,
     "metadata": {},
     "output_type": "execute_result"
    }
   ],
   "source": [
    "type(1 + 2j)"
   ]
  },
  {
   "cell_type": "code",
   "execution_count": 49,
   "id": "b358679d-d588-427c-9859-9bdfc25e69ad",
   "metadata": {},
   "outputs": [
    {
     "ename": "SyntaxError",
     "evalue": "invalid decimal literal (2832456366.py, line 4)",
     "output_type": "error",
     "traceback": [
      "\u001b[0;36m  Cell \u001b[0;32mIn[49], line 4\u001b[0;36m\u001b[0m\n\u001b[0;31m    1a\u001b[0m\n\u001b[0m    ^\u001b[0m\n\u001b[0;31mSyntaxError\u001b[0m\u001b[0;31m:\u001b[0m invalid decimal literal\n"
     ]
    }
   ],
   "source": [
    "# BAD WAY TO WRITE\n",
    "# dont start the variable name with numbers\n",
    "\n",
    "1a\n",
    "3yes\n"
   ]
  },
  {
   "cell_type": "code",
   "execution_count": 50,
   "id": "d10f53a8-d7bb-4425-8d06-a4b805e07769",
   "metadata": {},
   "outputs": [],
   "source": [
    "number1 = 24"
   ]
  },
  {
   "cell_type": "code",
   "execution_count": 59,
   "id": "06dbc912-75d6-4da9-be9c-271a4c02158c",
   "metadata": {},
   "outputs": [
    {
     "name": "stdout",
     "output_type": "stream",
     "text": [
      "ineuron\n",
      "PWSKILLS\n"
     ]
    }
   ],
   "source": [
    "# variables are case sensitive\n",
    "company = 'ineuron'\n",
    "Company = 'PWSKILLS'\n",
    "\n",
    "print(company)\n",
    "print(Company)"
   ]
  },
  {
   "cell_type": "code",
   "execution_count": 63,
   "id": "c5611de9-0ee1-4015-add5-dd90cceedf77",
   "metadata": {},
   "outputs": [
    {
     "data": {
      "text/plain": [
       "'\\n\\nint, float, len, complex, bool, str, return, yield\\n\\n'"
      ]
     },
     "execution_count": 63,
     "metadata": {},
     "output_type": "execute_result"
    }
   ],
   "source": [
    "# Reserved Keyword\n",
    "\n",
    "\"\"\"\n",
    "\n",
    "int, float, len, complex, bool, str, return, yield\n",
    "\n",
    "\"\"\""
   ]
  },
  {
   "cell_type": "code",
   "execution_count": 67,
   "id": "505d3b03-86f9-4bed-87f9-05580f350c05",
   "metadata": {},
   "outputs": [
    {
     "data": {
      "text/plain": [
       "True"
      ]
     },
     "execution_count": 67,
     "metadata": {},
     "output_type": "execute_result"
    }
   ],
   "source": [
    "# Boolean\n",
    "True"
   ]
  },
  {
   "cell_type": "code",
   "execution_count": 66,
   "id": "6e64c53a-f9d3-4196-8855-7d6c94ba3e00",
   "metadata": {},
   "outputs": [
    {
     "data": {
      "text/plain": [
       "False"
      ]
     },
     "execution_count": 66,
     "metadata": {},
     "output_type": "execute_result"
    }
   ],
   "source": [
    "False"
   ]
  },
  {
   "cell_type": "code",
   "execution_count": 68,
   "id": "7a84cd90-858c-4578-8809-9ba682116f0d",
   "metadata": {},
   "outputs": [
    {
     "data": {
      "text/plain": [
       "False"
      ]
     },
     "execution_count": 68,
     "metadata": {},
     "output_type": "execute_result"
    }
   ],
   "source": [
    "# Logic Gates\n",
    "\n",
    "True and False"
   ]
  },
  {
   "cell_type": "code",
   "execution_count": 69,
   "id": "91406cd6-6d52-40bc-b72b-a8d9d8e4c552",
   "metadata": {},
   "outputs": [
    {
     "data": {
      "text/plain": [
       "True"
      ]
     },
     "execution_count": 69,
     "metadata": {},
     "output_type": "execute_result"
    }
   ],
   "source": [
    "True or False"
   ]
  },
  {
   "cell_type": "code",
   "execution_count": 71,
   "id": "73915b98-27ef-4af2-9738-3c22a51523df",
   "metadata": {},
   "outputs": [
    {
     "data": {
      "text/plain": [
       "False"
      ]
     },
     "execution_count": 71,
     "metadata": {},
     "output_type": "execute_result"
    }
   ],
   "source": [
    "not True"
   ]
  },
  {
   "cell_type": "code",
   "execution_count": 72,
   "id": "36774b64-89a2-4612-8893-8b76ec2cdf02",
   "metadata": {},
   "outputs": [
    {
     "data": {
      "text/plain": [
       "True"
      ]
     },
     "execution_count": 72,
     "metadata": {},
     "output_type": "execute_result"
    }
   ],
   "source": [
    "not False"
   ]
  },
  {
   "cell_type": "code",
   "execution_count": 73,
   "id": "f253bc37-88b3-4a34-855a-7b32dd65e70b",
   "metadata": {},
   "outputs": [
    {
     "data": {
      "text/plain": [
       "bool"
      ]
     },
     "execution_count": 73,
     "metadata": {},
     "output_type": "execute_result"
    }
   ],
   "source": [
    "type(not False)"
   ]
  },
  {
   "cell_type": "code",
   "execution_count": 74,
   "id": "f3d5f5cf-4418-4c56-a247-bd5b4ef089b7",
   "metadata": {},
   "outputs": [
    {
     "data": {
      "text/plain": [
       "False"
      ]
     },
     "execution_count": 74,
     "metadata": {},
     "output_type": "execute_result"
    }
   ],
   "source": [
    "bool(0)"
   ]
  },
  {
   "cell_type": "code",
   "execution_count": 75,
   "id": "240f8540-1dbc-4b3e-9ed6-d40532953d88",
   "metadata": {},
   "outputs": [
    {
     "data": {
      "text/plain": [
       "True"
      ]
     },
     "execution_count": 75,
     "metadata": {},
     "output_type": "execute_result"
    }
   ],
   "source": [
    "#bool(1)"
   ]
  },
  {
   "cell_type": "code",
   "execution_count": 79,
   "id": "3be9714a-887f-4466-b6de-6a22dcf15e88",
   "metadata": {},
   "outputs": [],
   "source": [
    "# Typecasting - converting a number into boolean value\n",
    "\n",
    "a = 1"
   ]
  },
  {
   "cell_type": "code",
   "execution_count": 77,
   "id": "b5ac5728-77ae-4989-88a3-49b9fe0c3297",
   "metadata": {},
   "outputs": [
    {
     "data": {
      "text/plain": [
       "True"
      ]
     },
     "execution_count": 77,
     "metadata": {},
     "output_type": "execute_result"
    }
   ],
   "source": [
    "bool(a)"
   ]
  },
  {
   "cell_type": "code",
   "execution_count": 80,
   "id": "e5881ad4-7ab1-45e1-a23b-cc69d0049bea",
   "metadata": {},
   "outputs": [
    {
     "data": {
      "text/plain": [
       "'23'"
      ]
     },
     "execution_count": 80,
     "metadata": {},
     "output_type": "execute_result"
    }
   ],
   "source": [
    "str(23)"
   ]
  },
  {
   "cell_type": "code",
   "execution_count": 82,
   "id": "cd66690e-b488-494c-a9e9-e3ba17a586db",
   "metadata": {},
   "outputs": [
    {
     "data": {
      "text/plain": [
       "23"
      ]
     },
     "execution_count": 82,
     "metadata": {},
     "output_type": "execute_result"
    }
   ],
   "source": [
    "int ('23')"
   ]
  },
  {
   "cell_type": "code",
   "execution_count": 85,
   "id": "e8286467-74f5-4a0a-9b87-e8a6db40a426",
   "metadata": {},
   "outputs": [
    {
     "data": {
      "text/plain": [
       "int"
      ]
     },
     "execution_count": 85,
     "metadata": {},
     "output_type": "execute_result"
    }
   ],
   "source": [
    "type(int('23'))"
   ]
  },
  {
   "cell_type": "markdown",
   "id": "b942e794-f873-4c5f-a31e-c284a82a7092",
   "metadata": {},
   "source": [
    "## Dynamic Typing"
   ]
  },
  {
   "cell_type": "code",
   "execution_count": 1,
   "id": "eb844f47-7452-4c85-aed4-1ab3b286f32c",
   "metadata": {},
   "outputs": [],
   "source": [
    "a = 10 # a becomes an interger variable, it is automatically dynamic typing\n",
    "\n",
    "str1 = \"Rithvik\"\n",
    "a = \"Variable\""
   ]
  },
  {
   "cell_type": "code",
   "execution_count": 2,
   "id": "fef56fa0-508c-4c2e-bdb3-18106f39fb61",
   "metadata": {},
   "outputs": [
    {
     "name": "stdout",
     "output_type": "stream",
     "text": [
      "<class 'str'>\n"
     ]
    }
   ],
   "source": [
    "print(type(a))"
   ]
  },
  {
   "cell_type": "code",
   "execution_count": 16,
   "id": "1c644103-a8ea-490b-8df6-ac4f1df1a636",
   "metadata": {},
   "outputs": [
    {
     "data": {
      "text/plain": [
       "1"
      ]
     },
     "execution_count": 16,
     "metadata": {},
     "output_type": "execute_result"
    }
   ],
   "source": [
    "# how string can be typecasted to interger\n",
    "\n",
    "int(\"1\")"
   ]
  },
  {
   "cell_type": "code",
   "execution_count": 14,
   "id": "ea116273-a52f-4614-a020-f7b92d1684d5",
   "metadata": {},
   "outputs": [
    {
     "data": {
      "text/plain": [
       "2"
      ]
     },
     "execution_count": 14,
     "metadata": {},
     "output_type": "execute_result"
    }
   ],
   "source": [
    "# Concatenation between different types\n",
    "\n",
    "\"1\" + \"1\"\n",
    "\n",
    "int(\"1\") + int(\"1\")"
   ]
  },
  {
   "cell_type": "code",
   "execution_count": 17,
   "id": "cc122024-f8ac-4c2f-a919-61e05d378374",
   "metadata": {},
   "outputs": [
    {
     "data": {
      "text/plain": [
       "'11111111111111111111111111111111111111111111111111'"
      ]
     },
     "execution_count": 17,
     "metadata": {},
     "output_type": "execute_result"
    }
   ],
   "source": [
    "\"1\" * 50"
   ]
  },
  {
   "cell_type": "code",
   "execution_count": 23,
   "id": "7868f5dd-ab33-4b5d-8ee1-88e8c4ae4f1b",
   "metadata": {},
   "outputs": [
    {
     "data": {
      "text/plain": [
       "'Rithvik Rithvik'"
      ]
     },
     "execution_count": 23,
     "metadata": {},
     "output_type": "execute_result"
    }
   ],
   "source": [
    "str1  + \" \" + str1"
   ]
  },
  {
   "cell_type": "code",
   "execution_count": 20,
   "id": "146df51f-5927-4db3-b27b-db198d04d0fa",
   "metadata": {},
   "outputs": [
    {
     "data": {
      "text/plain": [
       "'str1str1'"
      ]
     },
     "execution_count": 20,
     "metadata": {},
     "output_type": "execute_result"
    }
   ],
   "source": [
    "\"str1\" + \"str1\""
   ]
  },
  {
   "cell_type": "code",
   "execution_count": 24,
   "id": "0f0d23f1-a371-46a2-a45a-73cfedcdf8dd",
   "metadata": {},
   "outputs": [
    {
     "data": {
      "text/plain": [
       "'1243'"
      ]
     },
     "execution_count": 24,
     "metadata": {},
     "output_type": "execute_result"
    }
   ],
   "source": [
    "str(\"1243\")"
   ]
  },
  {
   "cell_type": "code",
   "execution_count": 25,
   "id": "c503eb5b-4f81-42c5-ac88-74e0d46bcea3",
   "metadata": {},
   "outputs": [
    {
     "data": {
      "text/plain": [
       "123.0"
      ]
     },
     "execution_count": 25,
     "metadata": {},
     "output_type": "execute_result"
    }
   ],
   "source": [
    "float(123)"
   ]
  },
  {
   "cell_type": "code",
   "execution_count": 26,
   "id": "6c4a1c04-da80-49a1-a161-7aacb5261eae",
   "metadata": {},
   "outputs": [
    {
     "ename": "ValueError",
     "evalue": "invalid literal for int() with base 10: 'abcde'",
     "output_type": "error",
     "traceback": [
      "\u001b[0;31m---------------------------------------------------------------------------\u001b[0m",
      "\u001b[0;31mValueError\u001b[0m                                Traceback (most recent call last)",
      "Cell \u001b[0;32mIn[26], line 1\u001b[0m\n\u001b[0;32m----> 1\u001b[0m \u001b[38;5;28;43mint\u001b[39;49m\u001b[43m(\u001b[49m\u001b[38;5;124;43m\"\u001b[39;49m\u001b[38;5;124;43mabcde\u001b[39;49m\u001b[38;5;124;43m\"\u001b[39;49m\u001b[43m)\u001b[49m\n",
      "\u001b[0;31mValueError\u001b[0m: invalid literal for int() with base 10: 'abcde'"
     ]
    }
   ],
   "source": [
    "int(\"abcde\")"
   ]
  },
  {
   "cell_type": "code",
   "execution_count": 36,
   "id": "0539bb4d-656d-4167-84c7-093c20865d31",
   "metadata": {},
   "outputs": [
    {
     "data": {
      "text/plain": [
       "4"
      ]
     },
     "execution_count": 36,
     "metadata": {},
     "output_type": "execute_result"
    }
   ],
   "source": [
    "int('2') * 2"
   ]
  },
  {
   "cell_type": "code",
   "execution_count": 37,
   "id": "2d5725e9-477a-4d85-aaba-223863dd8915",
   "metadata": {},
   "outputs": [
    {
     "data": {
      "text/plain": [
       "'Variable'"
      ]
     },
     "execution_count": 37,
     "metadata": {},
     "output_type": "execute_result"
    }
   ],
   "source": [
    "a"
   ]
  },
  {
   "cell_type": "code",
   "execution_count": 42,
   "id": "00013716-ed52-4d45-a4cb-d79c92bd135a",
   "metadata": {},
   "outputs": [
    {
     "data": {
      "text/plain": [
       "True"
      ]
     },
     "execution_count": 42,
     "metadata": {},
     "output_type": "execute_result"
    }
   ],
   "source": [
    "bool(-1)"
   ]
  },
  {
   "cell_type": "code",
   "execution_count": null,
   "id": "a1767eaa-27b8-47e8-94cf-52c1d48ebc09",
   "metadata": {},
   "outputs": [],
   "source": [
    "#kernal is something that compiles python code in the runtime\n"
   ]
  },
  {
   "cell_type": "code",
   "execution_count": null,
   "id": "ef804355-71ce-4a40-9a07-4c680bbde224",
   "metadata": {},
   "outputs": [],
   "source": []
  },
  {
   "cell_type": "code",
   "execution_count": null,
   "id": "b5b309fe-5f5f-45ae-b4be-cda33ccf5544",
   "metadata": {},
   "outputs": [],
   "source": []
  }
 ],
 "metadata": {
  "kernelspec": {
   "display_name": "Python 3 (ipykernel)",
   "language": "python",
   "name": "python3"
  },
  "language_info": {
   "codemirror_mode": {
    "name": "ipython",
    "version": 3
   },
   "file_extension": ".py",
   "mimetype": "text/x-python",
   "name": "python",
   "nbconvert_exporter": "python",
   "pygments_lexer": "ipython3",
   "version": "3.10.8"
  }
 },
 "nbformat": 4,
 "nbformat_minor": 5
}
